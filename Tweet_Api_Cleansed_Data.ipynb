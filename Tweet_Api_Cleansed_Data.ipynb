{
 "cells": [
  {
   "cell_type": "code",
   "execution_count": 12,
   "id": "e03a5682-6ae7-4522-849f-dbb0660fea7c",
   "metadata": {},
   "outputs": [],
   "source": [
    "import pandas as pd\n",
    "import json\n",
    "from datetime import datetime\n",
    "import s3fs\n",
    "import numpy as np\n",
    "import boto3\n",
    "from datetime import datetime\n",
    "import io\n",
    "\n",
    "def Tweet_Api_Cleansed_Data():\n",
    "    s3 = boto3.client('s3',aws_access_key_id='',aws_secret_access_key='') #provide your AWS Credentials\n",
    "    obj = s3.get_object(Bucket = 'twitter-airflow-etl-data',Key = 'farmers-protest-tweets-2021-03-5.json')\n",
    "    # json_data = obj['Body'].read().decode('utf-8')\n",
    "    Tweet_File_Data = pd.read_json(obj['Body'].read().decode('utf-8'),lines = True)\n",
    "    Tweet_File_Data = Tweet_File_Data[Tweet_File_Data['lang'] == 'en'][['id','user','renderedContent','date','media','likeCount','replyCount','retweetCount','quoteCount','quotedTweet','mentionedUsers','url']].fillna(np.nan)\n",
    "    # Tweet_File_Data.fillna(np.nan,inplace = True)\n",
    "    Tweet_File_Data['username'] = Tweet_File_Data['user'].apply(lambda x: x['username'] if 'username' in x else np.nan)\n",
    "    Tweet_File_Data.loc[:,'verified'] = Tweet_File_Data['user'].apply(lambda x : x['verified'] if 'verified' in x else np.nan)\n",
    "    Tweet_File_Data.loc[:,'accountCreated'] = Tweet_File_Data['user'].apply(lambda x : x['created'] if 'created' in x else np.nan)\n",
    "    Tweet_File_Data['accountCreated'] = pd.to_datetime(Tweet_File_Data['accountCreated'])\n",
    "    Tweet_File_Data.loc[:,'userUrl'] = Tweet_File_Data['user'].apply(lambda x : x['url'] if 'url' in x else np.nan)\n",
    "    Tweet_File_Data.loc[:,'media'] = Tweet_File_Data[~Tweet_File_Data['media'].isna()]['media'].apply(lambda x : x[0]['fullUrl'] if 'fullUrl' in x[0] else x[0]['variants'][0]['url'] if 'url' in x[0]['variants'][0] else np.nan)\n",
    "    Tweet_File_Data.loc[:,'quotedUrl']  = Tweet_File_Data[~Tweet_File_Data['quotedTweet'].isna()]['quotedTweet'].apply(lambda x : x['url'] if 'url' in x else np.nan)\n",
    "    Tweet_File_Data.loc[:,'quotedUser'] = Tweet_File_Data[~Tweet_File_Data['quotedTweet'].isna()]['quotedTweet'].apply(lambda x : x['user']['username'] if 'username' in x['user'] else np.nan)\n",
    "    Tweet_File_Data.loc[:,'quotedContent'] = Tweet_File_Data[~Tweet_File_Data['quotedTweet'].isna()]['quotedTweet'].apply(lambda x : x['content'] if 'content' in x else np.nan)\n",
    "    Tweet_File_Data = Tweet_File_Data[['username','verified','accountCreated','userUrl','renderedContent','url','date','media','likeCount','replyCount','retweetCount','quotedUser','quotedContent','quotedUrl']]\n",
    "    Tweet_File_Data.rename(columns = {'renderedContent':'tweetContent','url':'tweetUrl','date':'tweetPosted'},inplace = True)\n",
    "    String_Data = io.StringIO()\n",
    "    Tweet_File_Data.to_csv(String_Data,index = False)\n",
    "    Twitter_Final_Data = String_Data.getvalue()\n",
    "    # --export data to csv\n",
    "    s3.put_object(Bucket = 'twitter-transformed-data',Key =  'Twitter_ETL_Data'+str(datetime.now())+'.csv',Body = Twitter_Final_Data)\n",
    "    \n",
    "    \n",
    "    "
   ]
  },
  {
   "cell_type": "code",
   "execution_count": 14,
   "id": "87e7ff2f-02c9-49d2-88ed-32f167a38671",
   "metadata": {
    "scrolled": true
   },
   "outputs": [
    {
     "name": "stderr",
     "output_type": "stream",
     "text": [
      "C:\\Users\\polam\\AppData\\Local\\Temp\\ipykernel_6764\\994265505.py:14: FutureWarning: Passing literal json to 'read_json' is deprecated and will be removed in a future version. To read from a literal string, wrap it in a 'StringIO' object.\n",
      "  Tweet_File_Data = pd.read_json(obj['Body'].read().decode('utf-8'),lines = True)\n"
     ]
    }
   ],
   "source": [
    "Tweet_Api_Cleansed_Data()"
   ]
  },
  {
   "cell_type": "code",
   "execution_count": null,
   "id": "612eece6-5ee3-4bcd-8ef9-91c920552e13",
   "metadata": {},
   "outputs": [],
   "source": []
  }
 ],
 "metadata": {
  "kernelspec": {
   "display_name": "Python 3 (ipykernel)",
   "language": "python",
   "name": "python3"
  },
  "language_info": {
   "codemirror_mode": {
    "name": "ipython",
    "version": 3
   },
   "file_extension": ".py",
   "mimetype": "text/x-python",
   "name": "python",
   "nbconvert_exporter": "python",
   "pygments_lexer": "ipython3",
   "version": "3.12.1"
  }
 },
 "nbformat": 4,
 "nbformat_minor": 5
}
