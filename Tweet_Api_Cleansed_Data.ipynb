{
 "cells": [
  {
   "cell_type": "code",
   "execution_count": null,
   "id": "c212e7c3-d8d3-440e-a013-3b908d47db5d",
   "metadata": {},
   "outputs": [],
   "source": [
    "pip install dask[dataframe]"
   ]
  },
  {
   "cell_type": "code",
   "execution_count": 113,
   "id": "e03a5682-6ae7-4522-849f-dbb0660fea7c",
   "metadata": {},
   "outputs": [],
   "source": [
    "import pandas as pd\n",
    "import json\n",
    "from datetime import datetime\n",
    "import s3fs\n",
    "import numpy as np\n",
    "import boto3\n",
    "from datetime import datetime\n",
    "import io\n",
    "import dask.dataframe as dd\n",
    "\n",
    "def Tweet_Api_Cleansed_Data():\n",
    "    s3 = boto3.client('s3',aws_access_key_id='',aws_secret_access_key='')\n",
    "    obj = s3.get_object(Bucket = 'twitter-airflow-etl-data',Key = 'tweets.csv')\n",
    "    Tweet_File_Data = pd.read_csv(obj['Body'])\n",
    "    Tweet_File_Data = Tweet_File_Data[Tweet_File_Data['language'] == 'en'][['author','content','date_time','language','number_of_likes','number_of_shares']].fillna(np.nan)\n",
    "    Tweet_File_Data['date_time'] = pd.to_datetime(Tweet_File_Data['date_time'],format = '%d/%m/%Y %H:%M')\n",
    "    String_Data = io.StringIO()\n",
    "    Tweet_File_Data.to_csv(String_Data,index = False)\n",
    "    Twitter_Final_Data = String_Data.getvalue()\n",
    "    # return Tweet_File_Data\n",
    "    # # --export data to csv\n",
    "    s3.put_object(Bucket = 'twitter-transformed-data',Key =  'Twitter_Data_2/Twitter_ETL_Data'+str(datetime.now())+'.csv',Body = Twitter_Final_Data)\n",
    "    \n",
    "    \n",
    "    "
   ]
  },
  {
   "cell_type": "code",
   "execution_count": 114,
   "id": "87e7ff2f-02c9-49d2-88ed-32f167a38671",
   "metadata": {
    "scrolled": true
   },
   "outputs": [],
   "source": [
    "Tweet_Api_Cleansed_Data()"
   ]
  },
  {
   "cell_type": "code",
   "execution_count": null,
   "id": "612eece6-5ee3-4bcd-8ef9-91c920552e13",
   "metadata": {},
   "outputs": [],
   "source": []
  }
 ],
 "metadata": {
  "kernelspec": {
   "display_name": "Python 3 (ipykernel)",
   "language": "python",
   "name": "python3"
  },
  "language_info": {
   "codemirror_mode": {
    "name": "ipython",
    "version": 3
   },
   "file_extension": ".py",
   "mimetype": "text/x-python",
   "name": "python",
   "nbconvert_exporter": "python",
   "pygments_lexer": "ipython3",
   "version": "3.12.1"
  }
 },
 "nbformat": 4,
 "nbformat_minor": 5
}
