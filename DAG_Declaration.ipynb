{
 "cells": [
  {
   "cell_type": "code",
   "execution_count": null,
   "id": "bb32ec14-7ad9-4834-9d2a-60353d21a267",
   "metadata": {},
   "outputs": [],
   "source": [
    "from datetime import timedelta,datetime\n",
    "import pandas as pd\n",
    "from airflow import DAG\n",
    "from airflow.operators.python_operator import PythonOperator\n",
    "from airflow.utils.dates import days_ago\n",
    "from Tweet_Api_Cleansed_Data import Tweet_Api_Cleansed_Data\n",
    "\n",
    "default_args = {\n",
    "    'owner' : 'airflow',\n",
    "    'depends_on_past':False,\n",
    "    'start_date':datetime(2024,6,4),\n",
    "    'email':['srimanthrockzz80@gmail.com'],\n",
    "    'email_on_failure':True,\n",
    "    'email_on_retry':True,\n",
    "    'retries':1,\n",
    "    'retry_delay':timedelta(minutes = 1)\n",
    "}\n",
    "\n",
    "dag = DAG(\n",
    "    dag_id = 'Twitter_ETL',\n",
    "    default_args = default_args,\n",
    "    description = 'Importing Farmer Protest tweets, storing the cleansed and transformed data into S3 Bucket.'\n",
    ")\n",
    "\n",
    "dag_operation = PythonOperator(\n",
    "    task_id = 'Twiter_Data_ETL',\n",
    "    python_callable = Tweet_Api_Cleansed_Data,\n",
    "    dag = dag\n",
    ")\n",
    "\n",
    "dag_operation\n"
   ]
  }
 ],
 "metadata": {
  "kernelspec": {
   "display_name": "Python 3 (ipykernel)",
   "language": "python",
   "name": "python3"
  },
  "language_info": {
   "codemirror_mode": {
    "name": "ipython",
    "version": 3
   },
   "file_extension": ".py",
   "mimetype": "text/x-python",
   "name": "python",
   "nbconvert_exporter": "python",
   "pygments_lexer": "ipython3",
   "version": "3.12.1"
  }
 },
 "nbformat": 4,
 "nbformat_minor": 5
}
